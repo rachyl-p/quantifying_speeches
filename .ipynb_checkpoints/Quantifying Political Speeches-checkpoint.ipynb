{
 "cells": [
  {
   "cell_type": "markdown",
   "id": "b528711c",
   "metadata": {},
   "source": [
    "# Analyzing Political Speeches\n",
    "\n",
    "Public speeches are interesting. Its history supposedly traces back to [ancient Athens](https://virtualspeech.com/blog/history-public-speaking#:~:text=The%20study%20of%20public%20speaking,lawyers%20for%20the%20average%20Athenian), where men were required to give speeches as part of their civic duties. \n",
    "\n",
    "In this project, I will be quantitatively analyzing the State of the Union speeches of U.S. presidents. \n",
    "\n",
    "For the uninitiated, the U.S. president's State of the Union Address is an annual speech delivered by the president at the start of each calendar year, and includes reports on the nation's budget, economy, and things on the president's agenda for the coming year. The State of the Union speeches are politically significant and receive millions of views -- Obama's State of the Union speeches averaged about 38.8 million viewers each year. Trump's first State of the Union speech was watched by 45.5 million viewers in 2018. \n",
    "\n",
    "Some State of the Union speeches are more memorable than others. Who can forget George W. Bush's 'axis of evil'-- a phrase that would later characterise international relations? \n",
    "\n",
    "For this reason, these speeches are worth further analyses. Some researchers use critical discourse analysis to examine the language used, as well as the social and political contexts in which they occur. For this project I'll be performing a textual and sentiment analysis of the State of the Union speeches performed by Donald Trump and Barack Obama."
   ]
  },
  {
   "cell_type": "markdown",
   "id": "9a7b5a64",
   "metadata": {},
   "source": [
    "# Importing Libraries\n",
    "\n",
    "These are the libraries I'll be working with for this project:"
   ]
  },
  {
   "cell_type": "code",
   "execution_count": 1,
   "id": "94ee3596",
   "metadata": {},
   "outputs": [
    {
     "name": "stderr",
     "output_type": "stream",
     "text": [
      "/Users/rachyl/.pyenv/versions/3.8.6/envs/lewagon/lib/python3.8/site-packages/scipy/__init__.py:146: UserWarning: A NumPy version >=1.16.5 and <1.23.0 is required for this version of SciPy (detected version 1.23.4\n",
      "  warnings.warn(f\"A NumPy version >={np_minversion} and <{np_maxversion}\"\n"
     ]
    }
   ],
   "source": [
    "import pandas as pd\n",
    "import numpy as np\n",
    "import glob\n",
    "import matplotlib.pyplot as plt\n",
    "import seaborn as sns\n",
    "import readability\n",
    "from readability import Readability\n",
    "import nltk\n",
    "from nltk.tokenize import word_tokenize\n",
    "from collections import Counter\n",
    "from vaderSentiment.vaderSentiment import SentimentIntensityAnalyzer "
   ]
  },
  {
   "cell_type": "markdown",
   "id": "10a25e95",
   "metadata": {},
   "source": [
    "# Data Collection and Preparation\n",
    "\n",
    "For this project, I have manually collected Obama and Trump's speeches from 2010 to 2020 and saving them as .txt files in the 'all_speeches' folder in the current directory. The faster way would definitely \n",
    "be to scrape them via the Beautiful Soup library, but I'll be demonstrating my web scraping skills in a separate project later."
   ]
  },
  {
   "cell_type": "markdown",
   "id": "22819a8e",
   "metadata": {},
   "source": [
    "## Creating a Dataframe to Store All Speeches"
   ]
  },
  {
   "cell_type": "code",
   "execution_count": 2,
   "id": "639ae5c1",
   "metadata": {},
   "outputs": [
    {
     "data": {
      "text/plain": [
       "['all_speeches/obama2016.txt',\n",
       " 'all_speeches/obama2015.txt',\n",
       " 'all_speeches/trump2019.txt',\n",
       " 'all_speeches/trump2018.txt',\n",
       " 'all_speeches/obama2014.txt',\n",
       " 'all_speeches/obama2010.txt',\n",
       " 'all_speeches/trump2020.txt',\n",
       " 'all_speeches/obama2011.txt',\n",
       " 'all_speeches/obama2013.txt',\n",
       " 'all_speeches/obama2012.txt']"
      ]
     },
     "execution_count": 2,
     "metadata": {},
     "output_type": "execute_result"
    }
   ],
   "source": [
    "# first, use the glob library to create a list of file names that ends with .txt\n",
    "\n",
    "files = glob.glob('all_speeches/*.txt')\n",
    "files"
   ]
  },
  {
   "cell_type": "code",
   "execution_count": 3,
   "id": "6157248b",
   "metadata": {},
   "outputs": [],
   "source": [
    "# getting a list of strings containing the speeches\n",
    "\n",
    "lst = []\n",
    "for file in files:\n",
    "    with open(file, 'r') as f:\n",
    "        text = f.read()\n",
    "        text.strip()\n",
    "        lst.append(text)"
   ]
  },
  {
   "cell_type": "code",
   "execution_count": 4,
   "id": "3bdd81af",
   "metadata": {},
   "outputs": [
    {
     "data": {
      "text/plain": [
       "['obama',\n",
       " 'obama',\n",
       " 'trump',\n",
       " 'trump',\n",
       " 'obama',\n",
       " 'obama',\n",
       " 'trump',\n",
       " 'obama',\n",
       " 'obama',\n",
       " 'obama']"
      ]
     },
     "execution_count": 4,
     "metadata": {},
     "output_type": "execute_result"
    }
   ],
   "source": [
    "# creating a list of names\n",
    "\n",
    "names = []\n",
    "for file in files:\n",
    "    names.append(file[13:18])\n",
    "\n",
    "names"
   ]
  },
  {
   "cell_type": "code",
   "execution_count": 5,
   "id": "f9d4ecd7",
   "metadata": {},
   "outputs": [
    {
     "data": {
      "text/plain": [
       "['2016',\n",
       " '2015',\n",
       " '2019',\n",
       " '2018',\n",
       " '2014',\n",
       " '2010',\n",
       " '2020',\n",
       " '2011',\n",
       " '2013',\n",
       " '2012']"
      ]
     },
     "execution_count": 5,
     "metadata": {},
     "output_type": "execute_result"
    }
   ],
   "source": [
    "# creating a list of years\n",
    "\n",
    "years = []\n",
    "for file in files:\n",
    "    years.append(file[18:22])\n",
    "    \n",
    "years"
   ]
  },
  {
   "cell_type": "code",
   "execution_count": 6,
   "id": "d79bd05d",
   "metadata": {},
   "outputs": [
    {
     "data": {
      "text/html": [
       "<div>\n",
       "<style scoped>\n",
       "    .dataframe tbody tr th:only-of-type {\n",
       "        vertical-align: middle;\n",
       "    }\n",
       "\n",
       "    .dataframe tbody tr th {\n",
       "        vertical-align: top;\n",
       "    }\n",
       "\n",
       "    .dataframe thead th {\n",
       "        text-align: right;\n",
       "    }\n",
       "</style>\n",
       "<table border=\"1\" class=\"dataframe\">\n",
       "  <thead>\n",
       "    <tr style=\"text-align: right;\">\n",
       "      <th></th>\n",
       "      <th>filename</th>\n",
       "      <th>name</th>\n",
       "      <th>year</th>\n",
       "      <th>speech</th>\n",
       "    </tr>\n",
       "  </thead>\n",
       "  <tbody>\n",
       "    <tr>\n",
       "      <th>0</th>\n",
       "      <td>all_speeches/obama2016.txt</td>\n",
       "      <td>obama</td>\n",
       "      <td>2016</td>\n",
       "      <td>Mr. Speaker, Mr. Vice President, Members of Co...</td>\n",
       "    </tr>\n",
       "    <tr>\n",
       "      <th>1</th>\n",
       "      <td>all_speeches/obama2015.txt</td>\n",
       "      <td>obama</td>\n",
       "      <td>2015</td>\n",
       "      <td>Mr. Speaker, Mr. Vice President, Members of Co...</td>\n",
       "    </tr>\n",
       "    <tr>\n",
       "      <th>2</th>\n",
       "      <td>all_speeches/trump2019.txt</td>\n",
       "      <td>trump</td>\n",
       "      <td>2019</td>\n",
       "      <td>Madam Speaker, Mr. Vice President, Members of ...</td>\n",
       "    </tr>\n",
       "    <tr>\n",
       "      <th>3</th>\n",
       "      <td>all_speeches/trump2018.txt</td>\n",
       "      <td>trump</td>\n",
       "      <td>2018</td>\n",
       "      <td>Mr. Speaker, Mr. Vice President, Members of Co...</td>\n",
       "    </tr>\n",
       "    <tr>\n",
       "      <th>4</th>\n",
       "      <td>all_speeches/obama2014.txt</td>\n",
       "      <td>obama</td>\n",
       "      <td>2014</td>\n",
       "      <td>Mr. Speaker, Mr. Vice President, Members of Co...</td>\n",
       "    </tr>\n",
       "    <tr>\n",
       "      <th>5</th>\n",
       "      <td>all_speeches/obama2010.txt</td>\n",
       "      <td>obama</td>\n",
       "      <td>2010</td>\n",
       "      <td>Madam Speaker, Vice President Biden, members o...</td>\n",
       "    </tr>\n",
       "    <tr>\n",
       "      <th>6</th>\n",
       "      <td>all_speeches/trump2020.txt</td>\n",
       "      <td>trump</td>\n",
       "      <td>2020</td>\n",
       "      <td>Thank you very much.  Thank you.  Thank you v...</td>\n",
       "    </tr>\n",
       "    <tr>\n",
       "      <th>7</th>\n",
       "      <td>all_speeches/obama2011.txt</td>\n",
       "      <td>obama</td>\n",
       "      <td>2011</td>\n",
       "      <td>Mr. Speaker, Mr. Vice President, members of Co...</td>\n",
       "    </tr>\n",
       "    <tr>\n",
       "      <th>8</th>\n",
       "      <td>all_speeches/obama2013.txt</td>\n",
       "      <td>obama</td>\n",
       "      <td>2013</td>\n",
       "      <td>Mr. Speaker, Mr. Vice President, members of Co...</td>\n",
       "    </tr>\n",
       "    <tr>\n",
       "      <th>9</th>\n",
       "      <td>all_speeches/obama2012.txt</td>\n",
       "      <td>obama</td>\n",
       "      <td>2012</td>\n",
       "      <td>Mr. Speaker, Mr. Vice President, members of C...</td>\n",
       "    </tr>\n",
       "  </tbody>\n",
       "</table>\n",
       "</div>"
      ],
      "text/plain": [
       "                     filename   name  year  \\\n",
       "0  all_speeches/obama2016.txt  obama  2016   \n",
       "1  all_speeches/obama2015.txt  obama  2015   \n",
       "2  all_speeches/trump2019.txt  trump  2019   \n",
       "3  all_speeches/trump2018.txt  trump  2018   \n",
       "4  all_speeches/obama2014.txt  obama  2014   \n",
       "5  all_speeches/obama2010.txt  obama  2010   \n",
       "6  all_speeches/trump2020.txt  trump  2020   \n",
       "7  all_speeches/obama2011.txt  obama  2011   \n",
       "8  all_speeches/obama2013.txt  obama  2013   \n",
       "9  all_speeches/obama2012.txt  obama  2012   \n",
       "\n",
       "                                              speech  \n",
       "0  Mr. Speaker, Mr. Vice President, Members of Co...  \n",
       "1  Mr. Speaker, Mr. Vice President, Members of Co...  \n",
       "2  Madam Speaker, Mr. Vice President, Members of ...  \n",
       "3  Mr. Speaker, Mr. Vice President, Members of Co...  \n",
       "4  Mr. Speaker, Mr. Vice President, Members of Co...  \n",
       "5  Madam Speaker, Vice President Biden, members o...  \n",
       "6   Thank you very much.  Thank you.  Thank you v...  \n",
       "7  Mr. Speaker, Mr. Vice President, members of Co...  \n",
       "8  Mr. Speaker, Mr. Vice President, members of Co...  \n",
       "9   Mr. Speaker, Mr. Vice President, members of C...  "
      ]
     },
     "execution_count": 6,
     "metadata": {},
     "output_type": "execute_result"
    }
   ],
   "source": [
    "# creating a dictionary with the lists above\n",
    "dic = {'filename': files, 'name': names, 'year': years, 'speech': lst} \n",
    "\n",
    "# creating a DataFrame to work with \n",
    "df = pd.DataFrame(dic)\n",
    "\n",
    "#printing df\n",
    "df"
   ]
  },
  {
   "cell_type": "markdown",
   "id": "7f21a90e",
   "metadata": {},
   "source": [
    "# Quantifying Speeches\n",
    "\n",
    "Speeches, like all long-form documents, can be quantified and analyzed. Quantifying differences allow us to objectively analyze the readability and effectiveness of the speech, and I'll be using the following methods. "
   ]
  },
  {
   "cell_type": "markdown",
   "id": "0904b257",
   "metadata": {},
   "source": [
    "## Readability"
   ]
  },
  {
   "cell_type": "markdown",
   "id": "858dfabe",
   "metadata": {},
   "source": [
    "### The \"Simple Measure of Gobbledygook\" (SMOG) Score\n",
    "\n",
    "This estimates the years of education needed to understand a piece of writing, and does so by counting the percentage of words with there or more syllables. It's considered to be a [rigorous](https://cdn1.sph.harvard.edu/wp-content/uploads/sites/135/2012/09/smogoverview.pdf) reading assessment tool because it focuses on the length of words and sentences, rather than just words alone.\n",
    "\n",
    "### The Flesch Reading-Ease Test \n",
    "\n",
    "Like the SMOG score, the Flesch Reading-Ease test also gauges the level of education required to read a body of text, but does so by counting the average sentence length and average syllables per word. It weights long words more than long sentences. \n",
    "\n",
    "In general, while speeches that have a lower SMOG score  or a higher Flesch Reading-East score may be interpreted as \"too simple\" or \"not intellectual enough\", it is actually not a negative point, insofar as State of the Union addresses are widely watched by the general population. "
   ]
  },
  {
   "cell_type": "code",
   "execution_count": 7,
   "id": "34b6be62",
   "metadata": {},
   "outputs": [
    {
     "data": {
      "text/html": [
       "<div>\n",
       "<style scoped>\n",
       "    .dataframe tbody tr th:only-of-type {\n",
       "        vertical-align: middle;\n",
       "    }\n",
       "\n",
       "    .dataframe tbody tr th {\n",
       "        vertical-align: top;\n",
       "    }\n",
       "\n",
       "    .dataframe thead th {\n",
       "        text-align: right;\n",
       "    }\n",
       "</style>\n",
       "<table border=\"1\" class=\"dataframe\">\n",
       "  <thead>\n",
       "    <tr style=\"text-align: right;\">\n",
       "      <th></th>\n",
       "      <th>filename</th>\n",
       "      <th>name</th>\n",
       "      <th>year</th>\n",
       "      <th>speech</th>\n",
       "      <th>SMOG_index</th>\n",
       "      <th>Flesch_score</th>\n",
       "    </tr>\n",
       "  </thead>\n",
       "  <tbody>\n",
       "    <tr>\n",
       "      <th>0</th>\n",
       "      <td>all_speeches/obama2016.txt</td>\n",
       "      <td>obama</td>\n",
       "      <td>2016</td>\n",
       "      <td>Mr. Speaker, Mr. Vice President, Members of Co...</td>\n",
       "      <td>10.203070</td>\n",
       "      <td>62.014665</td>\n",
       "    </tr>\n",
       "    <tr>\n",
       "      <th>1</th>\n",
       "      <td>all_speeches/obama2015.txt</td>\n",
       "      <td>obama</td>\n",
       "      <td>2015</td>\n",
       "      <td>Mr. Speaker, Mr. Vice President, Members of Co...</td>\n",
       "      <td>10.125757</td>\n",
       "      <td>66.451759</td>\n",
       "    </tr>\n",
       "    <tr>\n",
       "      <th>2</th>\n",
       "      <td>all_speeches/trump2019.txt</td>\n",
       "      <td>trump</td>\n",
       "      <td>2019</td>\n",
       "      <td>Madam Speaker, Mr. Vice President, Members of ...</td>\n",
       "      <td>12.968742</td>\n",
       "      <td>55.642559</td>\n",
       "    </tr>\n",
       "    <tr>\n",
       "      <th>3</th>\n",
       "      <td>all_speeches/trump2018.txt</td>\n",
       "      <td>trump</td>\n",
       "      <td>2018</td>\n",
       "      <td>Mr. Speaker, Mr. Vice President, Members of Co...</td>\n",
       "      <td>11.140535</td>\n",
       "      <td>58.501715</td>\n",
       "    </tr>\n",
       "    <tr>\n",
       "      <th>4</th>\n",
       "      <td>all_speeches/obama2014.txt</td>\n",
       "      <td>obama</td>\n",
       "      <td>2014</td>\n",
       "      <td>Mr. Speaker, Mr. Vice President, Members of Co...</td>\n",
       "      <td>11.855464</td>\n",
       "      <td>58.464553</td>\n",
       "    </tr>\n",
       "    <tr>\n",
       "      <th>5</th>\n",
       "      <td>all_speeches/obama2010.txt</td>\n",
       "      <td>obama</td>\n",
       "      <td>2010</td>\n",
       "      <td>Madam Speaker, Vice President Biden, members o...</td>\n",
       "      <td>10.047579</td>\n",
       "      <td>65.196638</td>\n",
       "    </tr>\n",
       "    <tr>\n",
       "      <th>6</th>\n",
       "      <td>all_speeches/trump2020.txt</td>\n",
       "      <td>trump</td>\n",
       "      <td>2020</td>\n",
       "      <td>Thank you very much.  Thank you.  Thank you v...</td>\n",
       "      <td>9.558584</td>\n",
       "      <td>58.962841</td>\n",
       "    </tr>\n",
       "    <tr>\n",
       "      <th>7</th>\n",
       "      <td>all_speeches/obama2011.txt</td>\n",
       "      <td>obama</td>\n",
       "      <td>2011</td>\n",
       "      <td>Mr. Speaker, Mr. Vice President, members of Co...</td>\n",
       "      <td>9.968508</td>\n",
       "      <td>68.414227</td>\n",
       "    </tr>\n",
       "    <tr>\n",
       "      <th>8</th>\n",
       "      <td>all_speeches/obama2013.txt</td>\n",
       "      <td>obama</td>\n",
       "      <td>2013</td>\n",
       "      <td>Mr. Speaker, Mr. Vice President, members of Co...</td>\n",
       "      <td>11.792909</td>\n",
       "      <td>63.555310</td>\n",
       "    </tr>\n",
       "    <tr>\n",
       "      <th>9</th>\n",
       "      <td>all_speeches/obama2012.txt</td>\n",
       "      <td>obama</td>\n",
       "      <td>2012</td>\n",
       "      <td>Mr. Speaker, Mr. Vice President, members of C...</td>\n",
       "      <td>10.577610</td>\n",
       "      <td>66.274423</td>\n",
       "    </tr>\n",
       "  </tbody>\n",
       "</table>\n",
       "</div>"
      ],
      "text/plain": [
       "                     filename   name  year  \\\n",
       "0  all_speeches/obama2016.txt  obama  2016   \n",
       "1  all_speeches/obama2015.txt  obama  2015   \n",
       "2  all_speeches/trump2019.txt  trump  2019   \n",
       "3  all_speeches/trump2018.txt  trump  2018   \n",
       "4  all_speeches/obama2014.txt  obama  2014   \n",
       "5  all_speeches/obama2010.txt  obama  2010   \n",
       "6  all_speeches/trump2020.txt  trump  2020   \n",
       "7  all_speeches/obama2011.txt  obama  2011   \n",
       "8  all_speeches/obama2013.txt  obama  2013   \n",
       "9  all_speeches/obama2012.txt  obama  2012   \n",
       "\n",
       "                                              speech  SMOG_index  Flesch_score  \n",
       "0  Mr. Speaker, Mr. Vice President, Members of Co...   10.203070     62.014665  \n",
       "1  Mr. Speaker, Mr. Vice President, Members of Co...   10.125757     66.451759  \n",
       "2  Madam Speaker, Mr. Vice President, Members of ...   12.968742     55.642559  \n",
       "3  Mr. Speaker, Mr. Vice President, Members of Co...   11.140535     58.501715  \n",
       "4  Mr. Speaker, Mr. Vice President, Members of Co...   11.855464     58.464553  \n",
       "5  Madam Speaker, Vice President Biden, members o...   10.047579     65.196638  \n",
       "6   Thank you very much.  Thank you.  Thank you v...    9.558584     58.962841  \n",
       "7  Mr. Speaker, Mr. Vice President, members of Co...    9.968508     68.414227  \n",
       "8  Mr. Speaker, Mr. Vice President, members of Co...   11.792909     63.555310  \n",
       "9   Mr. Speaker, Mr. Vice President, members of C...   10.577610     66.274423  "
      ]
     },
     "execution_count": 7,
     "metadata": {},
     "output_type": "execute_result"
    }
   ],
   "source": [
    "# Step 8: Add SMOGIndex and FleschReadingEase\n",
    "\n",
    "smog = []\n",
    "flesch = []\n",
    "\n",
    "for value in df['speech'].values:\n",
    "    smog.append(Readability(value).smog().score)\n",
    "    flesch.append(Readability(value).flesch().score)\n",
    "    \n",
    "df['SMOG_index'] = smog\n",
    "df['Flesch_score'] = flesch\n",
    "\n",
    "df"
   ]
  },
  {
   "cell_type": "markdown",
   "id": "fb7c1b82",
   "metadata": {},
   "source": [
    "## Engineering Features from Speech\n",
    "\n",
    "On top of the readability tests, I will be deriving features from the speeches with the following:\n",
    "\n",
    "1) Number of characters in each speech\n",
    "2) Number of sentences in each speech \n",
    "3) Average sentence length"
   ]
  },
  {
   "cell_type": "code",
   "execution_count": 8,
   "id": "5b74c2ab",
   "metadata": {},
   "outputs": [
    {
     "data": {
      "text/html": [
       "<div>\n",
       "<style scoped>\n",
       "    .dataframe tbody tr th:only-of-type {\n",
       "        vertical-align: middle;\n",
       "    }\n",
       "\n",
       "    .dataframe tbody tr th {\n",
       "        vertical-align: top;\n",
       "    }\n",
       "\n",
       "    .dataframe thead th {\n",
       "        text-align: right;\n",
       "    }\n",
       "</style>\n",
       "<table border=\"1\" class=\"dataframe\">\n",
       "  <thead>\n",
       "    <tr style=\"text-align: right;\">\n",
       "      <th></th>\n",
       "      <th>filename</th>\n",
       "      <th>name</th>\n",
       "      <th>year</th>\n",
       "      <th>speech</th>\n",
       "      <th>SMOG_index</th>\n",
       "      <th>Flesch_score</th>\n",
       "      <th>len_speech</th>\n",
       "      <th>sentences</th>\n",
       "      <th>num_sentences</th>\n",
       "      <th>average_sen_length</th>\n",
       "    </tr>\n",
       "  </thead>\n",
       "  <tbody>\n",
       "    <tr>\n",
       "      <th>0</th>\n",
       "      <td>all_speeches/obama2016.txt</td>\n",
       "      <td>obama</td>\n",
       "      <td>2016</td>\n",
       "      <td>Mr. Speaker, Mr. Vice President, Members of Co...</td>\n",
       "      <td>10.203070</td>\n",
       "      <td>62.014665</td>\n",
       "      <td>31167</td>\n",
       "      <td>[Mr,  Speaker, Mr,  Vice President, Members of...</td>\n",
       "      <td>295</td>\n",
       "      <td>105.650847</td>\n",
       "    </tr>\n",
       "    <tr>\n",
       "      <th>1</th>\n",
       "      <td>all_speeches/obama2015.txt</td>\n",
       "      <td>obama</td>\n",
       "      <td>2015</td>\n",
       "      <td>Mr. Speaker, Mr. Vice President, Members of Co...</td>\n",
       "      <td>10.125757</td>\n",
       "      <td>66.451759</td>\n",
       "      <td>40269</td>\n",
       "      <td>[Mr,  Speaker, Mr,  Vice President, Members of...</td>\n",
       "      <td>458</td>\n",
       "      <td>87.923581</td>\n",
       "    </tr>\n",
       "    <tr>\n",
       "      <th>2</th>\n",
       "      <td>all_speeches/trump2019.txt</td>\n",
       "      <td>trump</td>\n",
       "      <td>2019</td>\n",
       "      <td>Madam Speaker, Mr. Vice President, Members of ...</td>\n",
       "      <td>12.968742</td>\n",
       "      <td>55.642559</td>\n",
       "      <td>30945</td>\n",
       "      <td>[Madam Speaker, Mr,  Vice President, Members o...</td>\n",
       "      <td>295</td>\n",
       "      <td>104.898305</td>\n",
       "    </tr>\n",
       "    <tr>\n",
       "      <th>3</th>\n",
       "      <td>all_speeches/trump2018.txt</td>\n",
       "      <td>trump</td>\n",
       "      <td>2018</td>\n",
       "      <td>Mr. Speaker, Mr. Vice President, Members of Co...</td>\n",
       "      <td>11.140535</td>\n",
       "      <td>58.501715</td>\n",
       "      <td>30457</td>\n",
       "      <td>[Mr,  Speaker, Mr,  Vice President, Members of...</td>\n",
       "      <td>322</td>\n",
       "      <td>94.586957</td>\n",
       "    </tr>\n",
       "    <tr>\n",
       "      <th>4</th>\n",
       "      <td>all_speeches/obama2014.txt</td>\n",
       "      <td>obama</td>\n",
       "      <td>2014</td>\n",
       "      <td>Mr. Speaker, Mr. Vice President, Members of Co...</td>\n",
       "      <td>11.855464</td>\n",
       "      <td>58.464553</td>\n",
       "      <td>40009</td>\n",
       "      <td>[Mr,  Speaker, Mr,  Vice President, Members of...</td>\n",
       "      <td>352</td>\n",
       "      <td>113.661932</td>\n",
       "    </tr>\n",
       "    <tr>\n",
       "      <th>5</th>\n",
       "      <td>all_speeches/obama2010.txt</td>\n",
       "      <td>obama</td>\n",
       "      <td>2010</td>\n",
       "      <td>Madam Speaker, Vice President Biden, members o...</td>\n",
       "      <td>10.047579</td>\n",
       "      <td>65.196638</td>\n",
       "      <td>43698</td>\n",
       "      <td>[Madam Speaker, Vice President Biden, members ...</td>\n",
       "      <td>558</td>\n",
       "      <td>78.311828</td>\n",
       "    </tr>\n",
       "    <tr>\n",
       "      <th>6</th>\n",
       "      <td>all_speeches/trump2020.txt</td>\n",
       "      <td>trump</td>\n",
       "      <td>2020</td>\n",
       "      <td>Thank you very much.  Thank you.  Thank you v...</td>\n",
       "      <td>9.558584</td>\n",
       "      <td>58.962841</td>\n",
       "      <td>39649</td>\n",
       "      <td>[ Thank you very much,   Thank you,   Thank yo...</td>\n",
       "      <td>556</td>\n",
       "      <td>71.311151</td>\n",
       "    </tr>\n",
       "    <tr>\n",
       "      <th>7</th>\n",
       "      <td>all_speeches/obama2011.txt</td>\n",
       "      <td>obama</td>\n",
       "      <td>2011</td>\n",
       "      <td>Mr. Speaker, Mr. Vice President, members of Co...</td>\n",
       "      <td>9.968508</td>\n",
       "      <td>68.414227</td>\n",
       "      <td>41023</td>\n",
       "      <td>[Mr,  Speaker, Mr,  Vice President, members of...</td>\n",
       "      <td>497</td>\n",
       "      <td>82.541247</td>\n",
       "    </tr>\n",
       "    <tr>\n",
       "      <th>8</th>\n",
       "      <td>all_speeches/obama2013.txt</td>\n",
       "      <td>obama</td>\n",
       "      <td>2013</td>\n",
       "      <td>Mr. Speaker, Mr. Vice President, members of Co...</td>\n",
       "      <td>11.792909</td>\n",
       "      <td>63.555310</td>\n",
       "      <td>41202</td>\n",
       "      <td>[Mr,  Speaker, Mr,  Vice President, members of...</td>\n",
       "      <td>443</td>\n",
       "      <td>93.006772</td>\n",
       "    </tr>\n",
       "    <tr>\n",
       "      <th>9</th>\n",
       "      <td>all_speeches/obama2012.txt</td>\n",
       "      <td>obama</td>\n",
       "      <td>2012</td>\n",
       "      <td>Mr. Speaker, Mr. Vice President, members of C...</td>\n",
       "      <td>10.577610</td>\n",
       "      <td>66.274423</td>\n",
       "      <td>42204</td>\n",
       "      <td>[ Mr,  Speaker, Mr,  Vice President, members o...</td>\n",
       "      <td>513</td>\n",
       "      <td>82.269006</td>\n",
       "    </tr>\n",
       "  </tbody>\n",
       "</table>\n",
       "</div>"
      ],
      "text/plain": [
       "                     filename   name  year  \\\n",
       "0  all_speeches/obama2016.txt  obama  2016   \n",
       "1  all_speeches/obama2015.txt  obama  2015   \n",
       "2  all_speeches/trump2019.txt  trump  2019   \n",
       "3  all_speeches/trump2018.txt  trump  2018   \n",
       "4  all_speeches/obama2014.txt  obama  2014   \n",
       "5  all_speeches/obama2010.txt  obama  2010   \n",
       "6  all_speeches/trump2020.txt  trump  2020   \n",
       "7  all_speeches/obama2011.txt  obama  2011   \n",
       "8  all_speeches/obama2013.txt  obama  2013   \n",
       "9  all_speeches/obama2012.txt  obama  2012   \n",
       "\n",
       "                                              speech  SMOG_index  \\\n",
       "0  Mr. Speaker, Mr. Vice President, Members of Co...   10.203070   \n",
       "1  Mr. Speaker, Mr. Vice President, Members of Co...   10.125757   \n",
       "2  Madam Speaker, Mr. Vice President, Members of ...   12.968742   \n",
       "3  Mr. Speaker, Mr. Vice President, Members of Co...   11.140535   \n",
       "4  Mr. Speaker, Mr. Vice President, Members of Co...   11.855464   \n",
       "5  Madam Speaker, Vice President Biden, members o...   10.047579   \n",
       "6   Thank you very much.  Thank you.  Thank you v...    9.558584   \n",
       "7  Mr. Speaker, Mr. Vice President, members of Co...    9.968508   \n",
       "8  Mr. Speaker, Mr. Vice President, members of Co...   11.792909   \n",
       "9   Mr. Speaker, Mr. Vice President, members of C...   10.577610   \n",
       "\n",
       "   Flesch_score  len_speech  \\\n",
       "0     62.014665       31167   \n",
       "1     66.451759       40269   \n",
       "2     55.642559       30945   \n",
       "3     58.501715       30457   \n",
       "4     58.464553       40009   \n",
       "5     65.196638       43698   \n",
       "6     58.962841       39649   \n",
       "7     68.414227       41023   \n",
       "8     63.555310       41202   \n",
       "9     66.274423       42204   \n",
       "\n",
       "                                           sentences  num_sentences  \\\n",
       "0  [Mr,  Speaker, Mr,  Vice President, Members of...            295   \n",
       "1  [Mr,  Speaker, Mr,  Vice President, Members of...            458   \n",
       "2  [Madam Speaker, Mr,  Vice President, Members o...            295   \n",
       "3  [Mr,  Speaker, Mr,  Vice President, Members of...            322   \n",
       "4  [Mr,  Speaker, Mr,  Vice President, Members of...            352   \n",
       "5  [Madam Speaker, Vice President Biden, members ...            558   \n",
       "6  [ Thank you very much,   Thank you,   Thank yo...            556   \n",
       "7  [Mr,  Speaker, Mr,  Vice President, members of...            497   \n",
       "8  [Mr,  Speaker, Mr,  Vice President, members of...            443   \n",
       "9  [ Mr,  Speaker, Mr,  Vice President, members o...            513   \n",
       "\n",
       "   average_sen_length  \n",
       "0          105.650847  \n",
       "1           87.923581  \n",
       "2          104.898305  \n",
       "3           94.586957  \n",
       "4          113.661932  \n",
       "5           78.311828  \n",
       "6           71.311151  \n",
       "7           82.541247  \n",
       "8           93.006772  \n",
       "9           82.269006  "
      ]
     },
     "execution_count": 8,
     "metadata": {},
     "output_type": "execute_result"
    }
   ],
   "source": [
    "# getting the number of characters in each speech\n",
    "df['len_speech'] = df['speech'].str.len()\n",
    "\n",
    "# replacing ?/! with .\n",
    "df['speech'] = df['speech'].str.replace(\"!\",\".\").replace(\"?\",\".\")\n",
    "\n",
    "# creating a new column containing split speech and length of the lists\n",
    "df['sentences'] = df['speech'].str.split('.')\n",
    "df['num_sentences'] = df['sentences'].str.len()\n",
    "\n",
    "# creating a column containing average sentence length\n",
    "df['average_sen_length'] = df['len_speech'] / df['num_sentences']\n",
    "\n",
    "df"
   ]
  },
  {
   "cell_type": "markdown",
   "id": "c8112baa",
   "metadata": {},
   "source": [
    "## Visualizing Speech Metrics\n",
    "\n",
    "To get a better idea of how Trump's speeches compare to Obama's, I'm going to make use of boxplots to visualize the data. "
   ]
  },
  {
   "cell_type": "markdown",
   "id": "0b5b705d",
   "metadata": {},
   "source": [
    "### Comparing length of speeches"
   ]
  },
  {
   "cell_type": "code",
   "execution_count": 9,
   "id": "a0304b52",
   "metadata": {},
   "outputs": [
    {
     "data": {
      "text/plain": [
       "<AxesSubplot: title={'center': 'len_speech'}, xlabel='name'>"
      ]
     },
     "execution_count": 9,
     "metadata": {},
     "output_type": "execute_result"
    },
    {
     "data": {
      "image/png": "[encoded data removed]",
      "text/plain": [
       "<Figure size 576x576 with 1 Axes>"
      ]
     },
     "metadata": {
      "needs_background": "light"
     },
     "output_type": "display_data"
    }
   ],
   "source": [
    "df.boxplot(column='len_speech', by='name', figsize=(8,8))"
   ]
  },
  {
   "cell_type": "markdown",
   "id": "dd98b0e9",
   "metadata": {},
   "source": [
    "Unsurprisingly, Obama's speeches are much longer than Trump's! "
   ]
  },
  {
   "cell_type": "markdown",
   "id": "e3ef0aab",
   "metadata": {},
   "source": [
    "### Comparing number of sentences"
   ]
  },
  {
   "cell_type": "code",
   "execution_count": 10,
   "id": "709c7391",
   "metadata": {},
   "outputs": [
    {
     "data": {
      "text/plain": [
       "<AxesSubplot: title={'center': 'num_sentences'}, xlabel='name'>"
      ]
     },
     "execution_count": 10,
     "metadata": {},
     "output_type": "execute_result"
    },
    {
     "data": {
      "image/png": "[encoded data removed]",
      "text/plain": [
       "<Figure size 576x576 with 1 Axes>"
      ]
     },
     "metadata": {
      "needs_background": "light"
     },
     "output_type": "display_data"
    }
   ],
   "source": [
    "df.boxplot(column='num_sentences', by='name', figsize=(8,8))"
   ]
  },
  {
   "cell_type": "markdown",
   "id": "25f691fe",
   "metadata": {},
   "source": [
    "Obama also uses more sentences than Trump..."
   ]
  },
  {
   "cell_type": "markdown",
   "id": "d65183a1",
   "metadata": {},
   "source": [
    "### Comparing average sentence length"
   ]
  },
  {
   "cell_type": "code",
   "execution_count": 11,
   "id": "62e224e7",
   "metadata": {},
   "outputs": [
    {
     "data": {
      "text/plain": [
       "<AxesSubplot: title={'center': 'average_sen_length'}, xlabel='name'>"
      ]
     },
     "execution_count": 11,
     "metadata": {},
     "output_type": "execute_result"
    },
    {
     "data": {
      "image/png": "[encoded data removed]",
      "text/plain": [
       "<Figure size 576x576 with 1 Axes>"
      ]
     },
     "metadata": {
      "needs_background": "light"
     },
     "output_type": "display_data"
    }
   ],
   "source": [
    "df.boxplot(column='average_sen_length', by='name', figsize=(8,8))"
   ]
  },
  {
   "cell_type": "markdown",
   "id": "f56e797b",
   "metadata": {},
   "source": [
    "However, it does seem like their sentences have similar interquartile ranges, but I'll calculate their means just to be sure. "
   ]
  },
  {
   "cell_type": "code",
   "execution_count": 12,
   "id": "24792e90",
   "metadata": {},
   "outputs": [
    {
     "data": {
      "text/plain": [
       "name\n",
       "obama    91.909316\n",
       "trump    90.265471\n",
       "Name: average_sen_length, dtype: float64"
      ]
     },
     "execution_count": 12,
     "metadata": {},
     "output_type": "execute_result"
    }
   ],
   "source": [
    "df_mean = df.groupby(['name'])['average_sen_length'].mean()\n",
    "df_mean"
   ]
  },
  {
   "cell_type": "markdown",
   "id": "806d0773",
   "metadata": {},
   "source": [
    "There it is -- while Obama's speeches are longer and has more sentences than Trump's speeches, it does seem that on average, their sentences are of the same length."
   ]
  },
  {
   "cell_type": "markdown",
   "id": "2c3a1d7a",
   "metadata": {},
   "source": [
    "### Comparing SMOG scores"
   ]
  },
  {
   "cell_type": "code",
   "execution_count": 13,
   "id": "365e5fb8",
   "metadata": {},
   "outputs": [
    {
     "data": {
      "text/plain": [
       "<AxesSubplot: title={'center': 'SMOG_index'}, xlabel='name'>"
      ]
     },
     "execution_count": 13,
     "metadata": {},
     "output_type": "execute_result"
    },
    {
     "data": {
      "image/png": "[encoded data removed]",
      "text/plain": [
       "<Figure size 576x576 with 1 Axes>"
      ]
     },
     "metadata": {
      "needs_background": "light"
     },
     "output_type": "display_data"
    }
   ],
   "source": [
    "df.boxplot(column='SMOG_index', by='name', figsize=(8,8))"
   ]
  },
  {
   "cell_type": "markdown",
   "id": "6595a7b5",
   "metadata": {},
   "source": [
    "In general, the higher the SMOG score, the higher the education level required to read the text -- and therefore, the harder it is to read. \n",
    "\n",
    "According to the boxplots above, it seems like Trump's speeches are harder to read."
   ]
  },
  {
   "cell_type": "markdown",
   "id": "13d98323",
   "metadata": {},
   "source": [
    "### Comparing Flesch Reading Ease scores"
   ]
  },
  {
   "cell_type": "code",
   "execution_count": 14,
   "id": "f45d3782",
   "metadata": {},
   "outputs": [
    {
     "data": {
      "text/plain": [
       "<AxesSubplot: title={'center': 'Flesch_score'}, xlabel='name'>"
      ]
     },
     "execution_count": 14,
     "metadata": {},
     "output_type": "execute_result"
    },
    {
     "data": {
      "image/png": "[encoded data removed]",
      "text/plain": [
       "<Figure size 576x576 with 1 Axes>"
      ]
     },
     "metadata": {
      "needs_background": "light"
     },
     "output_type": "display_data"
    }
   ],
   "source": [
    "df.boxplot(column='Flesch_score', by='name', figsize=(8,8))"
   ]
  },
  {
   "cell_type": "markdown",
   "id": "061edcf4",
   "metadata": {},
   "source": [
    "Higher Flesch scores indicate text that is easier to read; lower numbers mark passages that are more difficult to read. Again, it seems like Obama's speeches are easier to read than Trump's. \n",
    "\n",
    "These are interesting results -- while it's been known that Obama is a rather verbose speaker, I've always assumed that his speeches were harder to understand. I mean, Obama clearly uses a wide range of vocabulary and has always come across as an eloquent (albeit a little slow...) speaker. What the results indicate is that Trump uses a greater percentage of words with three or more syllables in his speeches, and uses longer sentences and/ or words. \n",
    "\n",
    "Another common assumption about Trump is that he tends to appeal to the not-so-educated segments, the middle class voters, as well as Americans in the Rust Belt (commonly termed as \"the losers of globalisation\") -- and therefore his speeches could be \"easier\" to read. This obviously says otherwise!"
   ]
  },
  {
   "cell_type": "markdown",
   "id": "1bfc05a1",
   "metadata": {},
   "source": [
    "## Noun-to Verb Ratio\n",
    "\n",
    "Language plays an important role in speeches, and political actors recognise its effects. [Paul Chilton](https://voidnetwork.gr/wp-content/uploads/2016/10/Analysing-political-discourse-Theory-and-Practice-by-Paul-Chilton.pdf) argues that politics is mostly about \"the use of language\", though not every use of language is political. \n",
    "\n",
    "A study conducted by [Idan et al.](https://journals.sagepub.com/doi/abs/10.1177/0956797618772823?journalCode=pssa&) tested the impact of noun form versus verb form on anger and corresponding support for conflictrelated policies in the context of the Israeli-Palestinian conflict. Their study found the following: \"results across three studies in the context of the Israeli-Palestinian conflict showed that phrasing support for concessions as well as retaliatory policies toward the out-group (Study 3) in noun form (vs. verb form) reduced levels of anger and, correspondingly, opposition to the former and support for the latter policies\". \n",
    "\n",
    "In the State of the Union speeches where presidents often lay out their legislative and policy plans for the upcoming year, it would be interesting to see who uses a higher noun-to-verb ratio, and hypothesize a reason for that."
   ]
  },
  {
   "cell_type": "code",
   "execution_count": 15,
   "id": "1faf3ee9",
   "metadata": {},
   "outputs": [
    {
     "data": {
      "text/html": [
       "<div>\n",
       "<style scoped>\n",
       "    .dataframe tbody tr th:only-of-type {\n",
       "        vertical-align: middle;\n",
       "    }\n",
       "\n",
       "    .dataframe tbody tr th {\n",
       "        vertical-align: top;\n",
       "    }\n",
       "\n",
       "    .dataframe thead th {\n",
       "        text-align: right;\n",
       "    }\n",
       "</style>\n",
       "<table border=\"1\" class=\"dataframe\">\n",
       "  <thead>\n",
       "    <tr style=\"text-align: right;\">\n",
       "      <th></th>\n",
       "      <th>filename</th>\n",
       "      <th>name</th>\n",
       "      <th>year</th>\n",
       "      <th>speech</th>\n",
       "      <th>SMOG_index</th>\n",
       "      <th>Flesch_score</th>\n",
       "      <th>len_speech</th>\n",
       "      <th>sentences</th>\n",
       "      <th>num_sentences</th>\n",
       "      <th>average_sen_length</th>\n",
       "      <th>NOUN_count</th>\n",
       "      <th>VERB_count</th>\n",
       "      <th>NOUN_to_VERB</th>\n",
       "    </tr>\n",
       "  </thead>\n",
       "  <tbody>\n",
       "    <tr>\n",
       "      <th>0</th>\n",
       "      <td>all_speeches/obama2016.txt</td>\n",
       "      <td>obama</td>\n",
       "      <td>2016</td>\n",
       "      <td>Mr. Speaker, Mr. Vice President, Members of Co...</td>\n",
       "      <td>10.203070</td>\n",
       "      <td>62.014665</td>\n",
       "      <td>31167</td>\n",
       "      <td>[Mr,  Speaker, Mr,  Vice President, Members of...</td>\n",
       "      <td>295</td>\n",
       "      <td>105.650847</td>\n",
       "      <td>1367</td>\n",
       "      <td>1159</td>\n",
       "      <td>1.179465</td>\n",
       "    </tr>\n",
       "    <tr>\n",
       "      <th>1</th>\n",
       "      <td>all_speeches/obama2015.txt</td>\n",
       "      <td>obama</td>\n",
       "      <td>2015</td>\n",
       "      <td>Mr. Speaker, Mr. Vice President, Members of Co...</td>\n",
       "      <td>10.125757</td>\n",
       "      <td>66.451759</td>\n",
       "      <td>40269</td>\n",
       "      <td>[Mr,  Speaker, Mr,  Vice President, Members of...</td>\n",
       "      <td>458</td>\n",
       "      <td>87.923581</td>\n",
       "      <td>1970</td>\n",
       "      <td>1410</td>\n",
       "      <td>1.397163</td>\n",
       "    </tr>\n",
       "    <tr>\n",
       "      <th>2</th>\n",
       "      <td>all_speeches/trump2019.txt</td>\n",
       "      <td>trump</td>\n",
       "      <td>2019</td>\n",
       "      <td>Madam Speaker, Mr. Vice President, Members of ...</td>\n",
       "      <td>12.968742</td>\n",
       "      <td>55.642559</td>\n",
       "      <td>30945</td>\n",
       "      <td>[Madam Speaker, Mr,  Vice President, Members o...</td>\n",
       "      <td>295</td>\n",
       "      <td>104.898305</td>\n",
       "      <td>1609</td>\n",
       "      <td>961</td>\n",
       "      <td>1.674298</td>\n",
       "    </tr>\n",
       "    <tr>\n",
       "      <th>3</th>\n",
       "      <td>all_speeches/trump2018.txt</td>\n",
       "      <td>trump</td>\n",
       "      <td>2018</td>\n",
       "      <td>Mr. Speaker, Mr. Vice President, Members of Co...</td>\n",
       "      <td>11.140535</td>\n",
       "      <td>58.501715</td>\n",
       "      <td>30457</td>\n",
       "      <td>[Mr,  Speaker, Mr,  Vice President, Members of...</td>\n",
       "      <td>322</td>\n",
       "      <td>94.586957</td>\n",
       "      <td>1509</td>\n",
       "      <td>1001</td>\n",
       "      <td>1.507493</td>\n",
       "    </tr>\n",
       "    <tr>\n",
       "      <th>4</th>\n",
       "      <td>all_speeches/obama2014.txt</td>\n",
       "      <td>obama</td>\n",
       "      <td>2014</td>\n",
       "      <td>Mr. Speaker, Mr. Vice President, Members of Co...</td>\n",
       "      <td>11.855464</td>\n",
       "      <td>58.464553</td>\n",
       "      <td>40009</td>\n",
       "      <td>[Mr,  Speaker, Mr,  Vice President, Members of...</td>\n",
       "      <td>352</td>\n",
       "      <td>113.661932</td>\n",
       "      <td>2048</td>\n",
       "      <td>1418</td>\n",
       "      <td>1.444288</td>\n",
       "    </tr>\n",
       "    <tr>\n",
       "      <th>5</th>\n",
       "      <td>all_speeches/obama2010.txt</td>\n",
       "      <td>obama</td>\n",
       "      <td>2010</td>\n",
       "      <td>Madam Speaker, Vice President Biden, members o...</td>\n",
       "      <td>10.047579</td>\n",
       "      <td>65.196638</td>\n",
       "      <td>43698</td>\n",
       "      <td>[Madam Speaker, Vice President Biden, members ...</td>\n",
       "      <td>558</td>\n",
       "      <td>78.311828</td>\n",
       "      <td>1980</td>\n",
       "      <td>1601</td>\n",
       "      <td>1.236727</td>\n",
       "    </tr>\n",
       "    <tr>\n",
       "      <th>6</th>\n",
       "      <td>all_speeches/trump2020.txt</td>\n",
       "      <td>trump</td>\n",
       "      <td>2020</td>\n",
       "      <td>Thank you very much.  Thank you.  Thank you v...</td>\n",
       "      <td>9.558584</td>\n",
       "      <td>58.962841</td>\n",
       "      <td>39649</td>\n",
       "      <td>[ Thank you very much,   Thank you,   Thank yo...</td>\n",
       "      <td>556</td>\n",
       "      <td>71.311151</td>\n",
       "      <td>2092</td>\n",
       "      <td>1170</td>\n",
       "      <td>1.788034</td>\n",
       "    </tr>\n",
       "    <tr>\n",
       "      <th>7</th>\n",
       "      <td>all_speeches/obama2011.txt</td>\n",
       "      <td>obama</td>\n",
       "      <td>2011</td>\n",
       "      <td>Mr. Speaker, Mr. Vice President, members of Co...</td>\n",
       "      <td>9.968508</td>\n",
       "      <td>68.414227</td>\n",
       "      <td>41023</td>\n",
       "      <td>[Mr,  Speaker, Mr,  Vice President, members of...</td>\n",
       "      <td>497</td>\n",
       "      <td>82.541247</td>\n",
       "      <td>2030</td>\n",
       "      <td>1486</td>\n",
       "      <td>1.366083</td>\n",
       "    </tr>\n",
       "    <tr>\n",
       "      <th>8</th>\n",
       "      <td>all_speeches/obama2013.txt</td>\n",
       "      <td>obama</td>\n",
       "      <td>2013</td>\n",
       "      <td>Mr. Speaker, Mr. Vice President, members of Co...</td>\n",
       "      <td>11.792909</td>\n",
       "      <td>63.555310</td>\n",
       "      <td>41202</td>\n",
       "      <td>[Mr,  Speaker, Mr,  Vice President, members of...</td>\n",
       "      <td>443</td>\n",
       "      <td>93.006772</td>\n",
       "      <td>2046</td>\n",
       "      <td>1385</td>\n",
       "      <td>1.477256</td>\n",
       "    </tr>\n",
       "    <tr>\n",
       "      <th>9</th>\n",
       "      <td>all_speeches/obama2012.txt</td>\n",
       "      <td>obama</td>\n",
       "      <td>2012</td>\n",
       "      <td>Mr. Speaker, Mr. Vice President, members of C...</td>\n",
       "      <td>10.577610</td>\n",
       "      <td>66.274423</td>\n",
       "      <td>42204</td>\n",
       "      <td>[ Mr,  Speaker, Mr,  Vice President, members o...</td>\n",
       "      <td>513</td>\n",
       "      <td>82.269006</td>\n",
       "      <td>2129</td>\n",
       "      <td>1473</td>\n",
       "      <td>1.445350</td>\n",
       "    </tr>\n",
       "  </tbody>\n",
       "</table>\n",
       "</div>"
      ],
      "text/plain": [
       "                     filename   name  year  \\\n",
       "0  all_speeches/obama2016.txt  obama  2016   \n",
       "1  all_speeches/obama2015.txt  obama  2015   \n",
       "2  all_speeches/trump2019.txt  trump  2019   \n",
       "3  all_speeches/trump2018.txt  trump  2018   \n",
       "4  all_speeches/obama2014.txt  obama  2014   \n",
       "5  all_speeches/obama2010.txt  obama  2010   \n",
       "6  all_speeches/trump2020.txt  trump  2020   \n",
       "7  all_speeches/obama2011.txt  obama  2011   \n",
       "8  all_speeches/obama2013.txt  obama  2013   \n",
       "9  all_speeches/obama2012.txt  obama  2012   \n",
       "\n",
       "                                              speech  SMOG_index  \\\n",
       "0  Mr. Speaker, Mr. Vice President, Members of Co...   10.203070   \n",
       "1  Mr. Speaker, Mr. Vice President, Members of Co...   10.125757   \n",
       "2  Madam Speaker, Mr. Vice President, Members of ...   12.968742   \n",
       "3  Mr. Speaker, Mr. Vice President, Members of Co...   11.140535   \n",
       "4  Mr. Speaker, Mr. Vice President, Members of Co...   11.855464   \n",
       "5  Madam Speaker, Vice President Biden, members o...   10.047579   \n",
       "6   Thank you very much.  Thank you.  Thank you v...    9.558584   \n",
       "7  Mr. Speaker, Mr. Vice President, members of Co...    9.968508   \n",
       "8  Mr. Speaker, Mr. Vice President, members of Co...   11.792909   \n",
       "9   Mr. Speaker, Mr. Vice President, members of C...   10.577610   \n",
       "\n",
       "   Flesch_score  len_speech  \\\n",
       "0     62.014665       31167   \n",
       "1     66.451759       40269   \n",
       "2     55.642559       30945   \n",
       "3     58.501715       30457   \n",
       "4     58.464553       40009   \n",
       "5     65.196638       43698   \n",
       "6     58.962841       39649   \n",
       "7     68.414227       41023   \n",
       "8     63.555310       41202   \n",
       "9     66.274423       42204   \n",
       "\n",
       "                                           sentences  num_sentences  \\\n",
       "0  [Mr,  Speaker, Mr,  Vice President, Members of...            295   \n",
       "1  [Mr,  Speaker, Mr,  Vice President, Members of...            458   \n",
       "2  [Madam Speaker, Mr,  Vice President, Members o...            295   \n",
       "3  [Mr,  Speaker, Mr,  Vice President, Members of...            322   \n",
       "4  [Mr,  Speaker, Mr,  Vice President, Members of...            352   \n",
       "5  [Madam Speaker, Vice President Biden, members ...            558   \n",
       "6  [ Thank you very much,   Thank you,   Thank yo...            556   \n",
       "7  [Mr,  Speaker, Mr,  Vice President, members of...            497   \n",
       "8  [Mr,  Speaker, Mr,  Vice President, members of...            443   \n",
       "9  [ Mr,  Speaker, Mr,  Vice President, members o...            513   \n",
       "\n",
       "   average_sen_length  NOUN_count  VERB_count  NOUN_to_VERB  \n",
       "0          105.650847        1367        1159      1.179465  \n",
       "1           87.923581        1970        1410      1.397163  \n",
       "2          104.898305        1609         961      1.674298  \n",
       "3           94.586957        1509        1001      1.507493  \n",
       "4          113.661932        2048        1418      1.444288  \n",
       "5           78.311828        1980        1601      1.236727  \n",
       "6           71.311151        2092        1170      1.788034  \n",
       "7           82.541247        2030        1486      1.366083  \n",
       "8           93.006772        2046        1385      1.477256  \n",
       "9           82.269006        2129        1473      1.445350  "
      ]
     },
     "execution_count": 15,
     "metadata": {},
     "output_type": "execute_result"
    }
   ],
   "source": [
    "#initiating empty lists to create a new data frame\n",
    "noun_lst = []\n",
    "verb_lst = []\n",
    "\n",
    "# getting the counts for NOUN and VERB from each speech\n",
    "for index, row in df.iterrows(): \n",
    "    lst = nltk.pos_tag(word_tokenize(df['speech'][index]), tagset='universal')\n",
    "    noun_lst.append(Counter([x[1] for x in lst])['NOUN'])\n",
    "    verb_lst.append(Counter([x[1] for x in lst])['VERB'])\n",
    "\n",
    "df['NOUN_count'] = noun_lst\n",
    "df['VERB_count'] = verb_lst\n",
    "df['NOUN_to_VERB'] = df['NOUN_count']/df['VERB_count']\n",
    "df"
   ]
  },
  {
   "cell_type": "code",
   "execution_count": 16,
   "id": "ee841d7f",
   "metadata": {},
   "outputs": [
    {
     "data": {
      "text/plain": [
       "<AxesSubplot: title={'center': 'NOUN_to_VERB'}, xlabel='name'>"
      ]
     },
     "execution_count": 16,
     "metadata": {},
     "output_type": "execute_result"
    },
    {
     "data": {
      "image/png": "[encoded data removed]",
      "text/plain": [
       "<Figure size 576x576 with 1 Axes>"
      ]
     },
     "metadata": {
      "needs_background": "light"
     },
     "output_type": "display_data"
    }
   ],
   "source": [
    "# visually comparing the two politicians' noun-to-verb ratio\n",
    "\n",
    "df.boxplot(column='NOUN_to_VERB', by='name', figsize=(8,8))"
   ]
  },
  {
   "cell_type": "markdown",
   "id": "25a0ca3b",
   "metadata": {},
   "source": [
    "Evidently, Trump uses a higher noun-to-verb ratio than Obama. While it is easy to jump to the conclusion that he uses a more nouns to reduce levels of anger and opposition and increase levels of support for his proposed policies, I hesitate to assume that this is an intended objective. I do think that in general, using verbs instead of nouns add a form of rthetorical imagery to the speeches and hence, makes the audience more aware of the consequences of what you're saying. \n",
    "\n",
    "For instance, saying \"The assumption that immigrants help the economy warrants further examination.\" VS \"We must examine how immigrants help the economy.\"\n",
    "\n",
    "Both are trying to decry the effectiveness of immigration, but the latter makes what the speaker is trying to put more pertinent, more serious, and more consequential. \n",
    "\n",
    "Perhaps using a higher noun-to-verb ratio helps Trump to make dismissive claims without being held accountable, because linguistically, it's just harder to hear the impact he's trying to put forth. "
   ]
  },
  {
   "cell_type": "markdown",
   "id": "a171a2bf",
   "metadata": {},
   "source": [
    "# Sentiment Analysis"
   ]
  },
  {
   "cell_type": "markdown",
   "id": "d5a44ecb",
   "metadata": {},
   "source": [
    "Insofar as sentiments can be quite subjective (because people take away different things from speeches), I find it expedient to use NLP to gauge the sentiments of each speech, and how they differ between the two presidents and cross the years. I'll be using the VADER library for this. \n",
    "\n",
    "VADER (Valence Aware Dictionary for sEntiment Reasoner) is a lexicon and rule-based sentiment analysis tool used for text sentiment analysis and it is sensitive to both polarity (positive/negative) and intensity (strength) of emotion. \n",
    "\n",
    "VADER's strengths lie in the fact that it is specifically attuned to sentiments expressed in social media, which means that it's able to take in sentiment-laden slang words (though unlikely to be found in these speeches), increase sentiment intensity for punctuation, and recognise emphasis when ALL CAPS are used. A really cool model that produces easily interpretable results. Results are stored in a dictionary that is straightforward to use. "
   ]
  },
  {
   "cell_type": "markdown",
   "id": "10ab215e",
   "metadata": {},
   "source": [
    "## Prepping the Dataframe"
   ]
  },
  {
   "cell_type": "code",
   "execution_count": 17,
   "id": "edbd643d",
   "metadata": {},
   "outputs": [
    {
     "data": {
      "text/html": [
       "<div>\n",
       "<style scoped>\n",
       "    .dataframe tbody tr th:only-of-type {\n",
       "        vertical-align: middle;\n",
       "    }\n",
       "\n",
       "    .dataframe tbody tr th {\n",
       "        vertical-align: top;\n",
       "    }\n",
       "\n",
       "    .dataframe thead th {\n",
       "        text-align: right;\n",
       "    }\n",
       "</style>\n",
       "<table border=\"1\" class=\"dataframe\">\n",
       "  <thead>\n",
       "    <tr style=\"text-align: right;\">\n",
       "      <th></th>\n",
       "      <th>index</th>\n",
       "      <th>filename</th>\n",
       "      <th>name</th>\n",
       "      <th>year</th>\n",
       "      <th>speech</th>\n",
       "      <th>SMOG_index</th>\n",
       "      <th>Flesch_score</th>\n",
       "      <th>len_speech</th>\n",
       "      <th>sentences</th>\n",
       "      <th>num_sentences</th>\n",
       "      <th>average_sen_length</th>\n",
       "      <th>NOUN_count</th>\n",
       "      <th>VERB_count</th>\n",
       "      <th>NOUN_to_VERB</th>\n",
       "      <th>nameyear</th>\n",
       "    </tr>\n",
       "  </thead>\n",
       "  <tbody>\n",
       "    <tr>\n",
       "      <th>0</th>\n",
       "      <td>5</td>\n",
       "      <td>all_speeches/obama2010.txt</td>\n",
       "      <td>obama</td>\n",
       "      <td>2010</td>\n",
       "      <td>Madam Speaker, Vice President Biden, members o...</td>\n",
       "      <td>10.047579</td>\n",
       "      <td>65.196638</td>\n",
       "      <td>43698</td>\n",
       "      <td>[Madam Speaker, Vice President Biden, members ...</td>\n",
       "      <td>558</td>\n",
       "      <td>78.311828</td>\n",
       "      <td>1980</td>\n",
       "      <td>1601</td>\n",
       "      <td>1.236727</td>\n",
       "      <td>obama2010</td>\n",
       "    </tr>\n",
       "    <tr>\n",
       "      <th>1</th>\n",
       "      <td>7</td>\n",
       "      <td>all_speeches/obama2011.txt</td>\n",
       "      <td>obama</td>\n",
       "      <td>2011</td>\n",
       "      <td>Mr. Speaker, Mr. Vice President, members of Co...</td>\n",
       "      <td>9.968508</td>\n",
       "      <td>68.414227</td>\n",
       "      <td>41023</td>\n",
       "      <td>[Mr,  Speaker, Mr,  Vice President, members of...</td>\n",
       "      <td>497</td>\n",
       "      <td>82.541247</td>\n",
       "      <td>2030</td>\n",
       "      <td>1486</td>\n",
       "      <td>1.366083</td>\n",
       "      <td>obama2011</td>\n",
       "    </tr>\n",
       "    <tr>\n",
       "      <th>2</th>\n",
       "      <td>9</td>\n",
       "      <td>all_speeches/obama2012.txt</td>\n",
       "      <td>obama</td>\n",
       "      <td>2012</td>\n",
       "      <td>Mr. Speaker, Mr. Vice President, members of C...</td>\n",
       "      <td>10.577610</td>\n",
       "      <td>66.274423</td>\n",
       "      <td>42204</td>\n",
       "      <td>[ Mr,  Speaker, Mr,  Vice President, members o...</td>\n",
       "      <td>513</td>\n",
       "      <td>82.269006</td>\n",
       "      <td>2129</td>\n",
       "      <td>1473</td>\n",
       "      <td>1.445350</td>\n",
       "      <td>obama2012</td>\n",
       "    </tr>\n",
       "    <tr>\n",
       "      <th>3</th>\n",
       "      <td>8</td>\n",
       "      <td>all_speeches/obama2013.txt</td>\n",
       "      <td>obama</td>\n",
       "      <td>2013</td>\n",
       "      <td>Mr. Speaker, Mr. Vice President, members of Co...</td>\n",
       "      <td>11.792909</td>\n",
       "      <td>63.555310</td>\n",
       "      <td>41202</td>\n",
       "      <td>[Mr,  Speaker, Mr,  Vice President, members of...</td>\n",
       "      <td>443</td>\n",
       "      <td>93.006772</td>\n",
       "      <td>2046</td>\n",
       "      <td>1385</td>\n",
       "      <td>1.477256</td>\n",
       "      <td>obama2013</td>\n",
       "    </tr>\n",
       "    <tr>\n",
       "      <th>4</th>\n",
       "      <td>4</td>\n",
       "      <td>all_speeches/obama2014.txt</td>\n",
       "      <td>obama</td>\n",
       "      <td>2014</td>\n",
       "      <td>Mr. Speaker, Mr. Vice President, Members of Co...</td>\n",
       "      <td>11.855464</td>\n",
       "      <td>58.464553</td>\n",
       "      <td>40009</td>\n",
       "      <td>[Mr,  Speaker, Mr,  Vice President, Members of...</td>\n",
       "      <td>352</td>\n",
       "      <td>113.661932</td>\n",
       "      <td>2048</td>\n",
       "      <td>1418</td>\n",
       "      <td>1.444288</td>\n",
       "      <td>obama2014</td>\n",
       "    </tr>\n",
       "    <tr>\n",
       "      <th>5</th>\n",
       "      <td>1</td>\n",
       "      <td>all_speeches/obama2015.txt</td>\n",
       "      <td>obama</td>\n",
       "      <td>2015</td>\n",
       "      <td>Mr. Speaker, Mr. Vice President, Members of Co...</td>\n",
       "      <td>10.125757</td>\n",
       "      <td>66.451759</td>\n",
       "      <td>40269</td>\n",
       "      <td>[Mr,  Speaker, Mr,  Vice President, Members of...</td>\n",
       "      <td>458</td>\n",
       "      <td>87.923581</td>\n",
       "      <td>1970</td>\n",
       "      <td>1410</td>\n",
       "      <td>1.397163</td>\n",
       "      <td>obama2015</td>\n",
       "    </tr>\n",
       "    <tr>\n",
       "      <th>6</th>\n",
       "      <td>0</td>\n",
       "      <td>all_speeches/obama2016.txt</td>\n",
       "      <td>obama</td>\n",
       "      <td>2016</td>\n",
       "      <td>Mr. Speaker, Mr. Vice President, Members of Co...</td>\n",
       "      <td>10.203070</td>\n",
       "      <td>62.014665</td>\n",
       "      <td>31167</td>\n",
       "      <td>[Mr,  Speaker, Mr,  Vice President, Members of...</td>\n",
       "      <td>295</td>\n",
       "      <td>105.650847</td>\n",
       "      <td>1367</td>\n",
       "      <td>1159</td>\n",
       "      <td>1.179465</td>\n",
       "      <td>obama2016</td>\n",
       "    </tr>\n",
       "    <tr>\n",
       "      <th>7</th>\n",
       "      <td>3</td>\n",
       "      <td>all_speeches/trump2018.txt</td>\n",
       "      <td>trump</td>\n",
       "      <td>2018</td>\n",
       "      <td>Mr. Speaker, Mr. Vice President, Members of Co...</td>\n",
       "      <td>11.140535</td>\n",
       "      <td>58.501715</td>\n",
       "      <td>30457</td>\n",
       "      <td>[Mr,  Speaker, Mr,  Vice President, Members of...</td>\n",
       "      <td>322</td>\n",
       "      <td>94.586957</td>\n",
       "      <td>1509</td>\n",
       "      <td>1001</td>\n",
       "      <td>1.507493</td>\n",
       "      <td>trump2018</td>\n",
       "    </tr>\n",
       "    <tr>\n",
       "      <th>8</th>\n",
       "      <td>2</td>\n",
       "      <td>all_speeches/trump2019.txt</td>\n",
       "      <td>trump</td>\n",
       "      <td>2019</td>\n",
       "      <td>Madam Speaker, Mr. Vice President, Members of ...</td>\n",
       "      <td>12.968742</td>\n",
       "      <td>55.642559</td>\n",
       "      <td>30945</td>\n",
       "      <td>[Madam Speaker, Mr,  Vice President, Members o...</td>\n",
       "      <td>295</td>\n",
       "      <td>104.898305</td>\n",
       "      <td>1609</td>\n",
       "      <td>961</td>\n",
       "      <td>1.674298</td>\n",
       "      <td>trump2019</td>\n",
       "    </tr>\n",
       "    <tr>\n",
       "      <th>9</th>\n",
       "      <td>6</td>\n",
       "      <td>all_speeches/trump2020.txt</td>\n",
       "      <td>trump</td>\n",
       "      <td>2020</td>\n",
       "      <td>Thank you very much.  Thank you.  Thank you v...</td>\n",
       "      <td>9.558584</td>\n",
       "      <td>58.962841</td>\n",
       "      <td>39649</td>\n",
       "      <td>[ Thank you very much,   Thank you,   Thank yo...</td>\n",
       "      <td>556</td>\n",
       "      <td>71.311151</td>\n",
       "      <td>2092</td>\n",
       "      <td>1170</td>\n",
       "      <td>1.788034</td>\n",
       "      <td>trump2020</td>\n",
       "    </tr>\n",
       "  </tbody>\n",
       "</table>\n",
       "</div>"
      ],
      "text/plain": [
       "   index                    filename   name  year  \\\n",
       "0      5  all_speeches/obama2010.txt  obama  2010   \n",
       "1      7  all_speeches/obama2011.txt  obama  2011   \n",
       "2      9  all_speeches/obama2012.txt  obama  2012   \n",
       "3      8  all_speeches/obama2013.txt  obama  2013   \n",
       "4      4  all_speeches/obama2014.txt  obama  2014   \n",
       "5      1  all_speeches/obama2015.txt  obama  2015   \n",
       "6      0  all_speeches/obama2016.txt  obama  2016   \n",
       "7      3  all_speeches/trump2018.txt  trump  2018   \n",
       "8      2  all_speeches/trump2019.txt  trump  2019   \n",
       "9      6  all_speeches/trump2020.txt  trump  2020   \n",
       "\n",
       "                                              speech  SMOG_index  \\\n",
       "0  Madam Speaker, Vice President Biden, members o...   10.047579   \n",
       "1  Mr. Speaker, Mr. Vice President, members of Co...    9.968508   \n",
       "2   Mr. Speaker, Mr. Vice President, members of C...   10.577610   \n",
       "3  Mr. Speaker, Mr. Vice President, members of Co...   11.792909   \n",
       "4  Mr. Speaker, Mr. Vice President, Members of Co...   11.855464   \n",
       "5  Mr. Speaker, Mr. Vice President, Members of Co...   10.125757   \n",
       "6  Mr. Speaker, Mr. Vice President, Members of Co...   10.203070   \n",
       "7  Mr. Speaker, Mr. Vice President, Members of Co...   11.140535   \n",
       "8  Madam Speaker, Mr. Vice President, Members of ...   12.968742   \n",
       "9   Thank you very much.  Thank you.  Thank you v...    9.558584   \n",
       "\n",
       "   Flesch_score  len_speech  \\\n",
       "0     65.196638       43698   \n",
       "1     68.414227       41023   \n",
       "2     66.274423       42204   \n",
       "3     63.555310       41202   \n",
       "4     58.464553       40009   \n",
       "5     66.451759       40269   \n",
       "6     62.014665       31167   \n",
       "7     58.501715       30457   \n",
       "8     55.642559       30945   \n",
       "9     58.962841       39649   \n",
       "\n",
       "                                           sentences  num_sentences  \\\n",
       "0  [Madam Speaker, Vice President Biden, members ...            558   \n",
       "1  [Mr,  Speaker, Mr,  Vice President, members of...            497   \n",
       "2  [ Mr,  Speaker, Mr,  Vice President, members o...            513   \n",
       "3  [Mr,  Speaker, Mr,  Vice President, members of...            443   \n",
       "4  [Mr,  Speaker, Mr,  Vice President, Members of...            352   \n",
       "5  [Mr,  Speaker, Mr,  Vice President, Members of...            458   \n",
       "6  [Mr,  Speaker, Mr,  Vice President, Members of...            295   \n",
       "7  [Mr,  Speaker, Mr,  Vice President, Members of...            322   \n",
       "8  [Madam Speaker, Mr,  Vice President, Members o...            295   \n",
       "9  [ Thank you very much,   Thank you,   Thank yo...            556   \n",
       "\n",
       "   average_sen_length  NOUN_count  VERB_count  NOUN_to_VERB   nameyear  \n",
       "0           78.311828        1980        1601      1.236727  obama2010  \n",
       "1           82.541247        2030        1486      1.366083  obama2011  \n",
       "2           82.269006        2129        1473      1.445350  obama2012  \n",
       "3           93.006772        2046        1385      1.477256  obama2013  \n",
       "4          113.661932        2048        1418      1.444288  obama2014  \n",
       "5           87.923581        1970        1410      1.397163  obama2015  \n",
       "6          105.650847        1367        1159      1.179465  obama2016  \n",
       "7           94.586957        1509        1001      1.507493  trump2018  \n",
       "8          104.898305        1609         961      1.674298  trump2019  \n",
       "9           71.311151        2092        1170      1.788034  trump2020  "
      ]
     },
     "execution_count": 17,
     "metadata": {},
     "output_type": "execute_result"
    }
   ],
   "source": [
    "#creating a nameyear column\n",
    "df['nameyear'] = df['filename'].str[13:22]\n",
    "\n",
    "#sorting the dataframe by year\n",
    "df = df.sort_values(by=['nameyear']).reset_index()\n",
    "\n",
    "df"
   ]
  },
  {
   "cell_type": "markdown",
   "id": "d22bd20a",
   "metadata": {},
   "source": [
    "## Finding the Sentiment Scores for Each Sentence"
   ]
  },
  {
   "cell_type": "markdown",
   "id": "e8543bd0",
   "metadata": {},
   "source": [
    "Through the VADER library, I'll be obtaining and plotting the positive, negative, neutral, and compound scores of each sentence of each speech. \n",
    "\n",
    "The Compound score is a metric that calculates the sum of all the lexicon ratings which have been normalized between -1(most extreme negative) and +1 (most extreme positive).\n",
    "positive sentiment : (compound score >= 0.05) \n",
    "neutral sentiment : (compound score > -0.05) and (compound score < 0.05) \n",
    "negative sentiment : (compound score <= -0.05)"
   ]
  },
  {
   "cell_type": "code",
   "execution_count": 18,
   "id": "ce7b83e3",
   "metadata": {},
   "outputs": [],
   "source": [
    "# creating a list of processed dataframes\n",
    "\n",
    "emp_lst = []\n",
    "\n",
    "for value in df['sentences'].values:\n",
    "    analyzer = SentimentIntensityAnalyzer() # creating a SentimentIntensityAnalyzer object\n",
    "    new_df = pd.DataFrame(value, columns=['value'])\n",
    "    new_df['index'] = new_df.index/new_df.index.stop\n",
    "    cp_list = []\n",
    "    pst_list = []\n",
    "    neg_list = []\n",
    "    neu_list = []\n",
    "    for sentence in new_df['value']: # appending the scores of the sentence in the empty list\n",
    "        cp = analyzer.polarity_scores(sentence)['compound']\n",
    "        cp_list.append(str(cp))\n",
    "        pst = analyzer.polarity_scores(sentence)['pos']\n",
    "        pst_list.append(str(pst))\n",
    "        neg = analyzer.polarity_scores(sentence)['neg']\n",
    "        neg_list.append(str(neg))\n",
    "        neu = analyzer.polarity_scores(sentence)['neu']\n",
    "        neu_list.append(str(neu))\n",
    "        \n",
    "    new_df['compound'] = cp_list\n",
    "    new_df['positive'] = pst_list\n",
    "    new_df['negative'] = neg_list\n",
    "    new_df['neutral'] = neu_list\n",
    "    \n",
    "    emp_lst.append(new_df)\n"
   ]
  },
  {
   "cell_type": "markdown",
   "id": "97333076",
   "metadata": {},
   "source": [
    "## Plotting Average Compound Score for Each Speech"
   ]
  },
  {
   "cell_type": "markdown",
   "id": "e972a4ba",
   "metadata": {},
   "source": [
    "I'll be plotting the compound scores first, which is deemed as more reliable because it encompasses the overall sentiment of this corpus. It calculates the sum of all the lexicon ratings, and normalizes them between -1 and 1. "
   ]
  },
  {
   "cell_type": "code",
   "execution_count": 19,
   "id": "61f76cb4",
   "metadata": {},
   "outputs": [
    {
     "data": {
      "text/plain": [
       "<BarContainer object of 10 artists>"
      ]
     },
     "execution_count": 19,
     "metadata": {},
     "output_type": "execute_result"
    },
    {
     "data": {
      "image/png": "[encoded data removed]",
      "text/plain": [
       "<Figure size 1440x648 with 1 Axes>"
      ]
     },
     "metadata": {
      "needs_background": "light"
     },
     "output_type": "display_data"
    }
   ],
   "source": [
    "plt.figure(figsize=(20,9))\n",
    "x = []\n",
    "cmpd = []\n",
    "\n",
    "for i in range(10):\n",
    "    x.append(df['nameyear'][i])\n",
    "        \n",
    "for score_df in emp_lst:\n",
    "    cmpd.append(pd.to_numeric(score_df['compound']).mean())\n",
    "\n",
    "plt.bar(x,cmpd)"
   ]
  },
  {
   "cell_type": "markdown",
   "id": "b6315291",
   "metadata": {},
   "source": [
    "A score of -1 is extremely negative, while a score of 1 is extremely positive. As seen above, the speeches are moderately positive overall (as it should be, for a State of the Union speech). However, we can see differing scores over the years. A point of particular interest is the compound score of Obama's last State of the Union speech -- the lowest compound score of all speeches. In comparison, Trump's last speech scored the highest compound score. Now bear in mind that this was just before COVID-19 struck America in March 2020, and just before American unemployment saw a huge increase (from [281,000 to 3.3 million](https://web.archive.org/web/20200426082647/https://www.theguardian.com/business/2020/mar/26/us-unemployment-rate-coronavirus-business) in a week). The economy in Jan-Feb 2020 was arguably still in a good shape."
   ]
  },
  {
   "cell_type": "markdown",
   "id": "32b9a52c",
   "metadata": {},
   "source": [
    "## Plotting Average Positive, Negative and Neutral Scores for Each Speech\n",
    "\n",
    "Because the compound score is a composite score, I'll be plotting the respective positive, negative and neutral scores so I can see the breakdown of each speech."
   ]
  },
  {
   "cell_type": "code",
   "execution_count": 20,
   "id": "b1b485d5",
   "metadata": {
    "scrolled": true
   },
   "outputs": [
    {
     "data": {
      "text/plain": [
       "<matplotlib.legend.Legend at 0x1528af190>"
      ]
     },
     "execution_count": 20,
     "metadata": {},
     "output_type": "execute_result"
    },
    {
     "data": {
      "image/png": "[encoded data removed]",
      "text/plain": [
       "<Figure size 1440x648 with 1 Axes>"
      ]
     },
     "metadata": {
      "needs_background": "light"
     },
     "output_type": "display_data"
    }
   ],
   "source": [
    "pos = []\n",
    "neg = []\n",
    "neu = []\n",
    "width = 0.2 \n",
    "r = np.arange(10)\n",
    "\n",
    "for score_df in emp_lst:\n",
    "    pos.append(pd.to_numeric(score_df['positive']).mean())\n",
    "    neg.append(pd.to_numeric(score_df['negative']).mean())\n",
    "    neu.append(pd.to_numeric(score_df['neutral']).mean())\n",
    "\n",
    "plt.figure(figsize=(20,9))\n",
    "bar1 = plt.bar(r, neg, width, color='r')\n",
    "bar2 = plt.bar(r+width, neu, width, color='b')\n",
    "bar3 = plt.bar(r+width*2, pos, width, color='g')\n",
    "plt.xticks(r+width, x)\n",
    "plt.xlabel(\"Speech\")\n",
    "plt.ylabel('Scores')\n",
    "plt.legend( (bar1, bar2, bar3), ('Negative', 'Neutral', 'Positive') )"
   ]
  },
  {
   "cell_type": "markdown",
   "id": "7da38595",
   "metadata": {},
   "source": [
    "The Positive, Negative and Neutral scores represent the proportion of text that falls in these categories. As seen above, the neutral segments take the bulk of each speech, but we can see a clear distinction in the positive segments in 2014, 2016, and 2020. "
   ]
  },
  {
   "cell_type": "markdown",
   "id": "4ac5ab1f",
   "metadata": {},
   "source": [
    "# Final Thoughts"
   ]
  },
  {
   "cell_type": "markdown",
   "id": "7d9dc4cd",
   "metadata": {},
   "source": [
    "Speeches are every politician's bread and butter. Politicians not only need to be intelligent and good at policy making, they also need to be charismatic and articulate so that they can persuade the electorate to vote for them or that they're effective leaders. If a political leader does not speak well, it generally will not reflect well on their ability to lead, and can even damage the public's confidence in the governing institutions. Of course, it also means the electorate sometimes misplaces trust in charismatic yet ineffective leaders with pompous speeches. \n",
    "\n",
    "Speeches are also important conduits for politicians to brief the public on their legislative, economic and policy agenda -- although with Trump, we saw important policy decisions being announced through informal channels like Twitter. While that has sometimes been criticized, I do think that's the future of politicking and governing because informal channels seem to get the message out faster and to a wider range of people. \n",
    "\n",
    "For further analysis, one could consider scraping all speeches from the politicians. Instead of just quantitatively assessing the speeches, it could be useful to carry out topic modeling. I'd imagine the task of matching the frequently occurring topics of the speeches with those on social media could be useful to see how relevant politicians are at addressing the public's concerns. "
   ]
  }
 ],
 "metadata": {
  "kernelspec": {
   "display_name": "Python 3 (ipykernel)",
   "language": "python",
   "name": "python3"
  },
  "language_info": {
   "codemirror_mode": {
    "name": "ipython",
    "version": 3
   },
   "file_extension": ".py",
   "mimetype": "text/x-python",
   "name": "python",
   "nbconvert_exporter": "python",
   "pygments_lexer": "ipython3",
   "version": "3.8.6"
  },
  "toc": {
   "base_numbering": 1,
   "nav_menu": {},
   "number_sections": true,
   "sideBar": true,
   "skip_h1_title": false,
   "title_cell": "Table of Contents",
   "title_sidebar": "Contents",
   "toc_cell": false,
   "toc_position": {},
   "toc_section_display": true,
   "toc_window_display": false
  },
  "varInspector": {
   "cols": {
    "lenName": 16,
    "lenType": 16,
    "lenVar": 40
   },
   "kernels_config": {
    "python": {
     "delete_cmd_postfix": "",
     "delete_cmd_prefix": "del ",
     "library": "var_list.py",
     "varRefreshCmd": "print(var_dic_list())"
    },
    "r": {
     "delete_cmd_postfix": ") ",
     "delete_cmd_prefix": "rm(",
     "library": "var_list.r",
     "varRefreshCmd": "cat(var_dic_list()) "
    }
   },
   "types_to_exclude": [
    "module",
    "function",
    "builtin_function_or_method",
    "instance",
    "_Feature"
   ],
   "window_display": false
  }
 },
 "nbformat": 4,
 "nbformat_minor": 5
}
